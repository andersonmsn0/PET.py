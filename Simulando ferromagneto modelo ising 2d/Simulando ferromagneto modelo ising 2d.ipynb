{
 "cells": [
  {
   "cell_type": "markdown",
   "metadata": {},
   "source": [
    "# Evolução temporal de um ferromagneto utilizando o modelo Ising 2D\n",
    "## Introdução teórica\n",
    "\n",
    "Ferromagnetismo é a propriedade de certos materiais, como o ferro, de possuiram uma grande permeabilidade magnética, que por sua vez é o quanto a magnetização do material se alinha em resposta a um campo magnético externo. Alguns desses materiais podem se tornar imãs temporários. <br>\n",
    "O modelo Ising $^{[1]}$ descreve um ferromagneto através de uma rede de particulas organizadas, normalmente, em uma grade, que interagem somente com os seus 4 vizinhos adjacentes. Este é um modelo de 2 estados, ou seja, cada particula pode assumir 1 de 2 valores discretos, nomeadamente spins $\\pm 1$. <br>\n",
    "A energia total do sistema é dada pelo seu Hamiltoniano que depende somente da configuração de spin de cada ponto da rede. <br>\n",
    "\\begin{equation} \\tag{1}\n",
    "H(\\sigma) = - \\sum_{i j}{J_{ij}\\sigma_i \\sigma_j} - \\mu\\sum_{j}{h_j\\sigma_j} \n",
    "\\end{equation} \n",
    "Onde: <br>\n",
    "$J_{ij}$ é uma constante positiva para ferromagnetos, dependente de quais pontos da rede estão interagindo; <br>\n",
    "$\\sigma$ é o estado do sistema e $\\sigma_i$ é o estado do i-nésimo ponto da rede; <br>\n",
    "$\\mu$ é o momento magnético; <br>\n",
    "$h_i$ é o campo magnético externo que interage com o i-nésimo ponto da rede. <br>\n",
    "\n",
    "Para cada estado $\\sigma$ do sistema, podemos encontra-lo com uma probabilidade de configuração $P_{\\beta}(\\sigma)$, dada pela distribuição de Boltzmann, definida para alguma temperatura. <br>\n",
    "\\begin{equation} \\tag{2}\n",
    "P_{\\beta}(\\sigma) = \\frac{e^{-\\beta H(\\sigma)}}{Z_{\\beta}}\n",
    "\\end{equation}\n",
    "Onde $\\beta = \\frac{1}{k_BT}$ e a constante de normalização é $Z_{\\beta} = \\sum_{\\sigma}{e^{-\\beta H(\\sigma)}}$ <br>\n",
    "\n",
    "### Modelo simplificado\n",
    "De inicio, vamos analisar um caso simplificado onde $J_{ij} = J$ para todas as interações e o campo externo $h = 0$, o que nos leva a $$H_{red}(\\sigma) = -J\\sum_{i j }{\\sigma_i \\sigma_j}$$\n",
    "\n",
    "Dessa forma, vamos iniciar a nossa simulação importando as bibliotecas padrão para exibição de gráficos, constantes e algumas funções já apresentadas. \n",
    "\n"
   ]
  },
  {
   "cell_type": "markdown",
   "metadata": {},
   "source": [
    "Usaremos as seguintes bibliotecas. "
   ]
  },
  {
   "cell_type": "code",
   "execution_count": 1,
   "metadata": {},
   "outputs": [],
   "source": [
    "import matplotlib.animation as animation\n",
    "from matplotlib import pyplot as plt\n",
    "from scipy import constants\n",
    "import numpy as np\n",
    "import random\n",
    "%matplotlib qt\n"
   ]
  },
  {
   "cell_type": "markdown",
   "metadata": {},
   "source": [
    "Abaixo definiremos o valor das constantes que usaremos:"
   ]
  },
  {
   "cell_type": "code",
   "execution_count": 2,
   "metadata": {},
   "outputs": [],
   "source": [
    "\n",
    "J = 1\n",
    "L = 500\n",
    "T = 1\n",
    "e = float(constants.e)\n",
    "mu = 1\n",
    "h = 1\n"
   ]
  },
  {
   "cell_type": "markdown",
   "metadata": {},
   "source": [
    "E, \n",
    "então, definiremos as funções acima descritas, além da nossa rede, aqui chamada de grid."
   ]
  },
  {
   "cell_type": "code",
   "execution_count": 3,
   "metadata": {},
   "outputs": [],
   "source": [
    "\n",
    "grid = [[0]*L for i in range(L)]\n",
    "\n",
    "def sigma(x,y):\n",
    "    return grid[x%L][y%L]\n",
    "\n",
    "def beta(T):\n",
    "    return 1/(13*T)\n",
    "\n",
    "def H_local(x,y):\n",
    "    return -J * sigma(x,y) * (sigma(x-1,y-1) + sigma(x-1,y+1) + sigma(x+1,y-1) + sigma(x+1,y+1))\n"
   ]
  },
  {
   "cell_type": "markdown",
   "metadata": {},
   "source": [
    "Onde \n",
    "$H_{local}(\\sigma_{xy})$ é a energia da interação do ponto localizado nas coordenadas x e y com os seus vizinhos adjacentes. <br>\n",
    "Estaremos trabalhando com uma condição de contorno periódica, introduzida sempre que acessarmos o estado de um dos pontos da rede através da função sigma(x,y). \n",
    "Essa condição de contorno é necessária para que todos os pontos estejam interagindo com 4 vizinhos, emulando um ambiente infinito, apesar de que na prática estamos em uma geometria fechada. <br>\n",
    "Também inicializaremos o nosso grid e vamos randomiza-lo, abaixo, com valores de -1 ou 1."
   ]
  },
  {
   "cell_type": "code",
   "execution_count": 4,
   "metadata": {},
   "outputs": [],
   "source": [
    "def RandomizeGrid():\n",
    "    for i in range(0,L):\n",
    "        for j in range(0,L):\n",
    "            grid[i][j] = random.randrange(-1,2,2)\n",
    "            \n",
    "RandomizeGrid()\n",
    "plt.imshow(grid, cmap='gray')\n",
    "plt.show()\n"
   ]
  },
  {
   "cell_type": "markdown",
   "metadata": {},
   "source": [
    "$ $"
   ]
  },
  {
   "cell_type": "markdown",
   "metadata": {},
   "source": [
    "## Algorítimo de Metropolis\n",
    "No nosso sistema temos 500 pontos, cada um com 2 estados distintos, totalizando um total de $2^{500}$ estados possíveis. \n",
    "Pela enorme quantidade de estados, torna-se impraticável calcular $Z_{\\beta}$. <br> \n",
    "Dessa forma, precisamos de um método onde não é necessário a normalização da função de probabilidade e somos incentivados a utilizar um dos métodos de Monte Carlo $^{[3]}$ para essa simulação. Mais especificamente, estaremos utilizando o algorítimo de Metropolis $^{[3]}$. <br>\n",
    "Este algorítimo consiste em escolher uma função de probabilidade de seleção $g(u, v)$ que indica a probabilidade de um estado v ser selecionado dado que estamos no estado u. É interessante que essa função seja simétrica, ou seja $g(u, v) = g(v, u)$, já que a quebra de simetria será introduzida em uma função posterior, podendo a função g ser uma distribuição gaussina, por exemplo, tornando estados mais próximos de u mais prováveis de serem escolhidos. <br>\n",
    "Como estaremos realizando a iteração na simulação escolhendo um ponto por vez, qualquer estado seguinte v será igualmente e imediatamente próximo ao atual u, de forma que devemos escolher $g(u, v) = 1/L^2$, por ser mais coerente. <br>\n",
    "Após um dos pontos da rede ser escolhido para que ocorra um flip no valor do spin, manteremos a maximização da entropia, respeitando a equação (2), atravez da introdução de uma função de probabilidade de aceitação $A(u,v)$ que define a probabilidade do novo estado v ser aceito dado que estamos no estado u. Não é surpresa que tal função seja exatamente a própria equação (2) quando desconhecemos o estado atual u. <br>\n",
    "O modelo Ising pode ser visto como uma cadeia de Markov, um sistema estocástico onde cada evento de sequencia de eventos depende apenas do evento anterior. Quando realizamos uma transição do estado u para o v, através do flip (opcional) de um único spin, a probabilidade desse novo estado ser um estado especifico depende de qual era o estado anterior (a entropia tende a crescer).\n",
    "Podemos usar o teorema de Bayes para encontrar esse valor:\n",
    "$$P(v|u)=\\frac{P(u|v)P(v)}{P(u)}$$\n",
    "Onde $P(v|u) = P(u,v)$ e $P(u) = P_{\\beta}(u)$ <br>\n",
    "Mas, como podemos decompor $P(u,v) = g(u, v)A(u, v)$, isso nos leva a:\n",
    "$$\\frac{A(u,v)}{A(v,u)} = \\frac{P_{\\beta}(v)}{P_{\\beta}(u)} = \\frac{\\frac{1}{Z}e^{-\\beta H_v}}{\\frac{1}{Z}e^{-\\beta H_u}} = e^{-\\beta (H_v-H_u)}$$\n",
    "A função que obedece a essa relação pode ser descrita como a seguir:\n",
    "$$A(u,v) = \\begin{cases} e^{-\\beta (H_v-H_u)}, &\\text{se } H_v - H_u \\text{ > 0} \\\\ 1, &\\text{caso contrário} \\end{cases} $$\n",
    "Note que a função de probabilidade de aceitação dependerá apenas da diferença de energia entre os estados, que por sua vez depende apenas da interação do ponto da rede invertido com os seus vizinhos adjacentes. <br>\n",
    "Vamos chamar $H_v-H_u = dH$, que pode ser obtido por:\n",
    "$$dH_i = 2J\\sigma_i(\\sum_{j}{\\sigma_j}) \\tag{3}$$\n",
    "Onde j itera nas vizinhanças de i."
   ]
  },
  {
   "cell_type": "markdown",
   "metadata": {},
   "source": [
    "Abaixo\n",
    "definiremos as funções que executam as equações acima citadas"
   ]
  },
  {
   "cell_type": "code",
   "execution_count": 5,
   "metadata": {},
   "outputs": [],
   "source": [
    "def dHNoField(position):\n",
    "    (x, y) = position\n",
    "    return 2 * J * sigma(x,y) * (sigma(x-1,y) + sigma(x+1,y) + sigma(x,y-1) + sigma(x,y+1))\n",
    "\n",
    "def Selection():\n",
    "    x = random.randint(0,L-1)\n",
    "    y = random.randint(0,L-1)\n",
    "    return (x, y)\n",
    "\n",
    "def A(dH):\n",
    "    if dH > 0:\n",
    "          return np.exp(-dH/T)\n",
    "    else:\n",
    "        return 1\n",
    "    \n",
    "def Acceptance(position, dHFunc):\n",
    "    random_num = random.random()\n",
    "    if random_num <= A(dHFunc(position)):\n",
    "        return True\n",
    "    else:\n",
    "        return False\n",
    "\n",
    "def flip(position):\n",
    "    (x, y) = position\n",
    "    grid[x%L][y%L] *= -1\n",
    "    \n",
    "def Iterations(iterations_per_frame, dHFunc):\n",
    "    for i in range(L*iterations_per_frame):\n",
    "        position = Selection()\n",
    "        result = Acceptance(position, dHFunc)\n",
    "        if result:\n",
    "            flip(position)\n",
    "\n"
   ]
  },
  {
   "cell_type": "markdown",
   "metadata": {},
   "source": [
    "A \n",
    "função Iterations é a responsável pela evolução do nosso sitema. Defini, arbitrariamente, um passo base de tamanho L, ou seja, 500 comparações em cada passo.\n",
    "Abaixo montamos a animação correspondente ao estado do sistema ao longo de number_of_frames*iterations_per_frame passos."
   ]
  },
  {
   "cell_type": "code",
   "execution_count": 6,
   "metadata": {},
   "outputs": [],
   "source": [
    "fig, ax = plt.subplots(figsize=(5,5))\n",
    "ax.set_xlim(0, L)\n",
    "ax.set_ylim(0, L)\n",
    "ax.axis('off')\n",
    "ax.set_title(label = \"Sem campo\", fontsize=20)\n",
    "\n",
    "RandomizeGrid()\n",
    "\n",
    "number_of_frames = 3000\n",
    "iterations_per_frame = 30 #tamanho da iteração = L\n",
    "\n",
    "def GetFrames(number_of_frames, dHFunc):\n",
    "    im = plt.imshow(grid, cmap= 'gray')\n",
    "    ims = []\n",
    "    ims.append([im])\n",
    "    for i in range(number_of_frames-1):\n",
    "        Iterations(iterations_per_frame, dHFunc)\n",
    "        im = plt.imshow(grid, cmap= 'gray')\n",
    "        ims.append([im])\n",
    "    return ims\n",
    "\n",
    "ims_no_field = GetFrames(number_of_frames, dHNoField)\n",
    "\n",
    "animation_no_field = animation.ArtistAnimation(fig, ims_no_field, interval=20)\n",
    "\n",
    "animation_no_field.save(\"No_field.gif\")"
   ]
  },
  {
   "cell_type": "markdown",
   "metadata": {},
   "source": [
    "![No_field](No_field.gif)"
   ]
  },
  {
   "cell_type": "markdown",
   "metadata": {},
   "source": [
    "### Sistema sob ação de um campo\n",
    "Na nossa descrição acima trabalhamos com um hamiltoniano sem a ação de um campo magnético externo. Agora, vamos descrever como o sistema se comporta sob a ação de um campo. <br>\n",
    "A partir de (1) e, novamente, considerando que $J_{ij} = J$ para todo ij e considerando um campo homogêneo $h_j = h$, obtemos o hamiltoniano:\n",
    "$$H(\\sigma) = - J\\sum_{i j}{\\sigma_i \\sigma_j} - \\mu h\\sum_{j}{\\sigma_j} $$\n",
    "Observe que, sob a ação de um campo externo, o hamiltoniano não é mais invariável a uma inversão de todos os spins da rede. <br>\n",
    "Assim como fizemos com (3), a nova expressão para a variação de energia será:\n",
    "$$dH_i = 2J\\sigma_i(\\sum_{j}{\\sigma_j}) + 2\\mu h\\sigma_i $$\n",
    "Onde o termo referente ao campo depende apenas do ponto da rede que foi invertido. Podendo ser reduzido para:\n",
    "$$dH_i = 2\\sigma_i(J(\\sum_{j}{\\sigma_j}) + \\mu h \\tag{4}) $$\n",
    "Ou seja, o campo irá introduzir um *bias* na decisão se um spin deve ser invertido ou não. <br>\n",
    "Podemos prosseguir com a simulação igual a como foi feito anteriormente, porém usando agora o novo hamiltoniano.\n",
    "\n"
   ]
  },
  {
   "cell_type": "code",
   "execution_count": 7,
   "metadata": {},
   "outputs": [],
   "source": [
    "def dHField(position):\n",
    "    (x, y) = position\n",
    "    return dHNoField(position) + 2*mu*h*sigma(x,y)\n",
    "\n",
    "RandomizeGrid()\n",
    "\n",
    "ax.set_title(label = \"Com campo\", fontsize=20)\n",
    "\n",
    "ims_with_field = GetFrames(number_of_frames = 400, dHFunc = dHField)\n",
    "\n",
    "animation_with_field = animation.ArtistAnimation(fig, ims_with_field, interval=20)\n",
    "\n",
    "animation_with_field.save(\"With_field.gif\")\n"
   ]
  },
  {
   "cell_type": "markdown",
   "metadata": {},
   "source": [
    "![With_field](With_field.gif)"
   ]
  },
  {
   "cell_type": "markdown",
   "metadata": {},
   "source": [
    "## Referências \n",
    "[1] Gallavotti, G. (1999), Statistical mechanics, Texts and Monographs in Physics <br>\n",
    "[2] https://en.wikipedia.org/wiki/Ising_model <br>\n",
    "[3] Newman, M.E.J.; Barkema, G.T. (1999). Monte Carlo Methods in Statistical Physics. Clarendon Press. ISBN 9780198517979. <br>"
   ]
  },
  {
   "cell_type": "markdown",
   "metadata": {},
   "source": []
  }
 ],
 "metadata": {
  "kernelspec": {
   "display_name": "Python 3.9.12 ('base')",
   "language": "python",
   "name": "python3"
  },
  "language_info": {
   "codemirror_mode": {
    "name": "ipython",
    "version": 3
   },
   "file_extension": ".py",
   "mimetype": "text/x-python",
   "name": "python",
   "nbconvert_exporter": "python",
   "pygments_lexer": "ipython3",
   "version": "3.9.13"
  },
  "orig_nbformat": 4,
  "vscode": {
   "interpreter": {
    "hash": "c554c66f566e5fa03b3d8ec3111cf9ac03e121d33a28a4bd0a17ff85ecb300ec"
   }
  }
 },
 "nbformat": 4,
 "nbformat_minor": 2
}
